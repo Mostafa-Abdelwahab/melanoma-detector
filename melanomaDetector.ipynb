{
  "nbformat": 4,
  "nbformat_minor": 0,
  "metadata": {
    "colab": {
      "provenance": [],
      "mount_file_id": "1qwuYPsj5oE2F20NlQ4rHGzVH17-TDzBm",
      "authorship_tag": "ABX9TyPmuZ3pJJsow50tArD8NBzV",
      "include_colab_link": true
    },
    "kernelspec": {
      "name": "python3",
      "display_name": "Python 3"
    },
    "language_info": {
      "name": "python"
    }
  },
  "cells": [
    {
      "cell_type": "markdown",
      "metadata": {
        "id": "view-in-github",
        "colab_type": "text"
      },
      "source": [
        "<a href=\"https://colab.research.google.com/github/Mostafa-Abdelwahab/melanoma-detector/blob/main/melanomaDetector.ipynb\" target=\"_parent\"><img src=\"https://colab.research.google.com/assets/colab-badge.svg\" alt=\"Open In Colab\"/></a>"
      ]
    },
    {
      "cell_type": "code",
      "execution_count": null,
      "metadata": {
        "id": "w_3wW0H1PgjC"
      },
      "outputs": [],
      "source": [
        "import tensorflow as tf\n",
        "from keras.utils import image_dataset_from_directory\n",
        "from keras.preprocessing.image import ImageDataGenerator"
      ]
    },
    {
      "cell_type": "code",
      "source": [
        "tf.__version__"
      ],
      "metadata": {
        "id": "zvH-NOAcQih6",
        "colab": {
          "base_uri": "https://localhost:8080/",
          "height": 35
        },
        "outputId": "e005d3ce-2424-4831-b03d-2d41e7cf4258"
      },
      "execution_count": null,
      "outputs": [
        {
          "output_type": "execute_result",
          "data": {
            "text/plain": [
              "'2.9.2'"
            ],
            "application/vnd.google.colaboratory.intrinsic+json": {
              "type": "string"
            }
          },
          "metadata": {},
          "execution_count": 2
        }
      ]
    },
    {
      "cell_type": "code",
      "source": [
        "training_set=image_dataset_from_directory(\"/content/drive/MyDrive/DermMel/train_sep\",labels=\"inferred\",label_mode=\"binary\",batch_size=16,image_size=(28,28))\n",
        "# train_datagen = ImageDataGenerator(rescale = 1./255,\n",
        "#                                    shear_range = 0.2,\n",
        "#                                    zoom_range = 0.2,\n",
        "#                                    horizontal_flip = True)\n",
        "# training_set = train_datagen.flow_from_directory('/content/drive/MyDrive/DermMel/train_sep',\n",
        "#                                                  target_size = (64, 64),\n",
        "#                                                  batch_size = 32,\n",
        "#                                                  class_mode = 'binary')"
      ],
      "metadata": {
        "colab": {
          "base_uri": "https://localhost:8080/"
        },
        "id": "fzH7tJOLQ1MG",
        "outputId": "a95e7bae-3874-455f-d124-8ed48a962ae5"
      },
      "execution_count": null,
      "outputs": [
        {
          "output_type": "stream",
          "name": "stdout",
          "text": [
            "Found 10682 files belonging to 2 classes.\n"
          ]
        }
      ]
    },
    {
      "cell_type": "code",
      "source": [
        "test_set=image_dataset_from_directory(\"/content/drive/MyDrive/DermMel/test\",labels=\"inferred\",label_mode=\"binary\",batch_size=16,image_size=(28,28))\n",
        "# test_datagen = ImageDataGenerator(rescale = 1./255)\n",
        "# test_set = test_datagen.flow_from_directory('/content/drive/MyDrive/DermMel/test',\n",
        "#                                             target_size = (64, 64),\n",
        "#                                             batch_size = 32,\n",
        "#                                             class_mode = 'binary')"
      ],
      "metadata": {
        "colab": {
          "base_uri": "https://localhost:8080/"
        },
        "id": "OjDOoCX9Q4Rx",
        "outputId": "ad21a41f-9d5e-4dc2-8fc9-65f56eed73a8"
      },
      "execution_count": null,
      "outputs": [
        {
          "output_type": "stream",
          "name": "stdout",
          "text": [
            "Found 3561 files belonging to 2 classes.\n"
          ]
        }
      ]
    },
    {
      "cell_type": "code",
      "source": [
        "AutoTune=tf.data.AUTOTUNE\n",
        "training_set=training_set.cache().prefetch(buffer_size=AutoTune)\n",
        "test_set=test_set.cache().prefetch(buffer_size=AutoTune)"
      ],
      "metadata": {
        "id": "EAM8usokRD36"
      },
      "execution_count": null,
      "outputs": []
    },
    {
      "cell_type": "code",
      "source": [
        "cnn=tf.keras.models.Sequential()"
      ],
      "metadata": {
        "id": "dXedmNefRrrA"
      },
      "execution_count": null,
      "outputs": []
    },
    {
      "cell_type": "code",
      "source": [
        "cnn.add(tf.keras.layers.Rescaling(1./255))"
      ],
      "metadata": {
        "id": "1ZHfA1xcRuKZ"
      },
      "execution_count": null,
      "outputs": []
    },
    {
      "cell_type": "code",
      "source": [
        "cnn.add(tf.keras.layers.Conv2D(32,(3,3),activation='relu',padding='same',kernel_initializer='he_normal',input_shape=[28,28,3]))\n"
      ],
      "metadata": {
        "id": "1xmLgYDTRwmD"
      },
      "execution_count": null,
      "outputs": []
    },
    {
      "cell_type": "code",
      "source": [
        "cnn.add(tf.keras.layers.MaxPooling2D())"
      ],
      "metadata": {
        "id": "zrnE0ZTjSdxm"
      },
      "execution_count": null,
      "outputs": []
    },
    {
      "cell_type": "code",
      "source": [
        "cnn.add(tf.keras.layers.BatchNormalization())"
      ],
      "metadata": {
        "id": "-HrY5QzjSrjq"
      },
      "execution_count": null,
      "outputs": []
    },
    {
      "cell_type": "code",
      "source": [
        "cnn.add(tf.keras.layers.Conv2D(64 , (3,3) , activation='relu',padding='same' , kernel_initializer='he_normal'))\n"
      ],
      "metadata": {
        "id": "v95cy_ryS2g8"
      },
      "execution_count": null,
      "outputs": []
    },
    {
      "cell_type": "code",
      "source": [
        "cnn.add(tf.keras.layers.Conv2D(64 , (3,3) , activation='relu',padding='same' , kernel_initializer='he_normal'))\n"
      ],
      "metadata": {
        "id": "94eCDg4PTJMF"
      },
      "execution_count": null,
      "outputs": []
    },
    {
      "cell_type": "code",
      "source": [
        "cnn.add(tf.keras.layers.MaxPooling2D())\n",
        "cnn.add(tf.keras.layers.BatchNormalization())"
      ],
      "metadata": {
        "id": "-jgu_DNATMZO"
      },
      "execution_count": null,
      "outputs": []
    },
    {
      "cell_type": "code",
      "source": [
        "cnn.add(tf.keras.layers.Conv2D(128 , (3,3) , activation='relu',padding='same' , kernel_initializer='he_normal'))\n",
        "cnn.add(tf.keras.layers.Conv2D(128 , (3,3) , activation='relu',padding='same' , kernel_initializer='he_normal'))\n"
      ],
      "metadata": {
        "id": "5h9ifMFLTTzY"
      },
      "execution_count": null,
      "outputs": []
    },
    {
      "cell_type": "code",
      "source": [
        "cnn.add(tf.keras.layers.MaxPooling2D())\n",
        "cnn.add(tf.keras.layers.BatchNormalization())"
      ],
      "metadata": {
        "id": "Y6GituuFUOek"
      },
      "execution_count": null,
      "outputs": []
    },
    {
      "cell_type": "code",
      "source": [
        "cnn.add(tf.keras.layers.Conv2D(256 , (3,3) , activation='relu',padding='same' , kernel_initializer='he_normal'))\n",
        "cnn.add(tf.keras.layers.Conv2D(256 , (3,3) , activation='relu',padding='same' , kernel_initializer='he_normal'))\n"
      ],
      "metadata": {
        "id": "nF6eXTTdUXkG"
      },
      "execution_count": null,
      "outputs": []
    },
    {
      "cell_type": "code",
      "source": [
        "cnn.add(tf.keras.layers.MaxPooling2D())\n",
        "cnn.add(tf.keras.layers.BatchNormalization())"
      ],
      "metadata": {
        "id": "vvojIatsUjC7"
      },
      "execution_count": null,
      "outputs": []
    },
    {
      "cell_type": "code",
      "source": [
        "cnn.add(tf.keras.layers.Flatten())"
      ],
      "metadata": {
        "id": "MrgoQ3UHUknG"
      },
      "execution_count": null,
      "outputs": []
    },
    {
      "cell_type": "code",
      "source": [
        "cnn.add(tf.keras.layers.Dropout(rate=0.2))"
      ],
      "metadata": {
        "id": "lG8pxbQYUxZB"
      },
      "execution_count": null,
      "outputs": []
    },
    {
      "cell_type": "code",
      "source": [
        "cnn.add(tf.keras.layers.Dense(units = 256 , activation = 'relu' , kernel_initializer = 'he_normal'))\n"
      ],
      "metadata": {
        "id": "fXlZ-My0VHn0"
      },
      "execution_count": null,
      "outputs": []
    },
    {
      "cell_type": "code",
      "source": [
        "cnn.add(tf.keras.layers.BatchNormalization())"
      ],
      "metadata": {
        "id": "sjeDuNcqVa4u"
      },
      "execution_count": null,
      "outputs": []
    },
    {
      "cell_type": "code",
      "source": [
        "cnn.add(tf.keras.layers.Dense(units = 128 , activation = 'relu' , kernel_initializer = 'he_normal'))\n",
        "\n",
        "cnn.add(tf.keras.layers.BatchNormalization())"
      ],
      "metadata": {
        "id": "zp_UP2akVevL"
      },
      "execution_count": null,
      "outputs": []
    },
    {
      "cell_type": "code",
      "source": [
        "cnn.add(tf.keras.layers.Dense(units = 64 , activation = 'relu' , kernel_initializer = 'he_normal'))\n",
        "\n",
        "cnn.add(tf.keras.layers.BatchNormalization())"
      ],
      "metadata": {
        "id": "zU7ylBapVmRL"
      },
      "execution_count": null,
      "outputs": []
    },
    {
      "cell_type": "code",
      "source": [
        "cnn.add(tf.keras.layers.Dense(units = 32 , activation = 'relu' , kernel_initializer = 'he_normal'))\n",
        "\n",
        "cnn.add(tf.keras.layers.BatchNormalization())"
      ],
      "metadata": {
        "id": "5EiaHS8YVrkL"
      },
      "execution_count": null,
      "outputs": []
    },
    {
      "cell_type": "code",
      "source": [
        "cnn.add(tf.keras.layers.Dense(units=1,activation=\"sigmoid\",kernel_initializer='glorot_uniform'))"
      ],
      "metadata": {
        "id": "Cr6WYFI6VtOt"
      },
      "execution_count": null,
      "outputs": []
    },
    {
      "cell_type": "code",
      "source": [
        "cnn.compile(optimizer=\"adam\",loss=\"binary_crossentropy\", metrics=[\"accuracy\"])"
      ],
      "metadata": {
        "id": "caIU7QHJWo1D"
      },
      "execution_count": null,
      "outputs": []
    },
    {
      "cell_type": "code",
      "source": [
        "cnn.fit(x = training_set, validation_data = test_set, epochs = 50)"
      ],
      "metadata": {
        "colab": {
          "base_uri": "https://localhost:8080/"
        },
        "id": "o0wMaOodW-HS",
        "outputId": "285f917e-174f-4ab9-b014-7a88e5641d78"
      },
      "execution_count": null,
      "outputs": [
        {
          "output_type": "stream",
          "name": "stdout",
          "text": [
            "Epoch 1/50\n",
            "668/668 [==============================] - 66s 99ms/step - loss: 0.2662 - accuracy: 0.8880 - val_loss: 0.3049 - val_accuracy: 0.8618\n",
            "Epoch 2/50\n",
            "668/668 [==============================] - 66s 99ms/step - loss: 0.2534 - accuracy: 0.8941 - val_loss: 0.4134 - val_accuracy: 0.8242\n",
            "Epoch 3/50\n",
            "668/668 [==============================] - 63s 94ms/step - loss: 0.2298 - accuracy: 0.9088 - val_loss: 0.4057 - val_accuracy: 0.8239\n",
            "Epoch 4/50\n",
            "668/668 [==============================] - 63s 94ms/step - loss: 0.2010 - accuracy: 0.9212 - val_loss: 0.3896 - val_accuracy: 0.8596\n",
            "Epoch 5/50\n",
            "668/668 [==============================] - 64s 95ms/step - loss: 0.1857 - accuracy: 0.9302 - val_loss: 0.3520 - val_accuracy: 0.8545\n",
            "Epoch 6/50\n",
            "668/668 [==============================] - 63s 94ms/step - loss: 0.1683 - accuracy: 0.9374 - val_loss: 0.8017 - val_accuracy: 0.6675\n",
            "Epoch 7/50\n",
            "668/668 [==============================] - 64s 95ms/step - loss: 0.1398 - accuracy: 0.9446 - val_loss: 0.6052 - val_accuracy: 0.8133\n",
            "Epoch 8/50\n",
            "668/668 [==============================] - 62s 93ms/step - loss: 0.1277 - accuracy: 0.9521 - val_loss: 0.8607 - val_accuracy: 0.6852\n",
            "Epoch 9/50\n",
            "668/668 [==============================] - 62s 93ms/step - loss: 0.1183 - accuracy: 0.9556 - val_loss: 0.3879 - val_accuracy: 0.8736\n",
            "Epoch 10/50\n",
            "668/668 [==============================] - 64s 95ms/step - loss: 0.0950 - accuracy: 0.9646 - val_loss: 0.5238 - val_accuracy: 0.8554\n",
            "Epoch 11/50\n",
            "668/668 [==============================] - 68s 101ms/step - loss: 0.0887 - accuracy: 0.9690 - val_loss: 0.5623 - val_accuracy: 0.7829\n",
            "Epoch 12/50\n",
            "668/668 [==============================] - 64s 96ms/step - loss: 0.0815 - accuracy: 0.9703 - val_loss: 0.5151 - val_accuracy: 0.8197\n",
            "Epoch 13/50\n",
            "668/668 [==============================] - 63s 95ms/step - loss: 0.0758 - accuracy: 0.9737 - val_loss: 0.5779 - val_accuracy: 0.8385\n",
            "Epoch 14/50\n",
            "668/668 [==============================] - 64s 96ms/step - loss: 0.0670 - accuracy: 0.9770 - val_loss: 0.4789 - val_accuracy: 0.8683\n",
            "Epoch 15/50\n",
            "668/668 [==============================] - 63s 94ms/step - loss: 0.0673 - accuracy: 0.9754 - val_loss: 1.9887 - val_accuracy: 0.6686\n",
            "Epoch 16/50\n",
            "668/668 [==============================] - 64s 95ms/step - loss: 0.0488 - accuracy: 0.9829 - val_loss: 0.5792 - val_accuracy: 0.8236\n",
            "Epoch 17/50\n",
            "668/668 [==============================] - 65s 97ms/step - loss: 0.0490 - accuracy: 0.9839 - val_loss: 0.5154 - val_accuracy: 0.8587\n",
            "Epoch 18/50\n",
            "668/668 [==============================] - 64s 95ms/step - loss: 0.0547 - accuracy: 0.9804 - val_loss: 0.4717 - val_accuracy: 0.8835\n",
            "Epoch 19/50\n",
            "668/668 [==============================] - 65s 97ms/step - loss: 0.0392 - accuracy: 0.9863 - val_loss: 0.6333 - val_accuracy: 0.8340\n",
            "Epoch 20/50\n",
            "668/668 [==============================] - 64s 95ms/step - loss: 0.0357 - accuracy: 0.9877 - val_loss: 0.9481 - val_accuracy: 0.7680\n",
            "Epoch 21/50\n",
            "668/668 [==============================] - 63s 95ms/step - loss: 0.0412 - accuracy: 0.9869 - val_loss: 0.6127 - val_accuracy: 0.8565\n",
            "Epoch 22/50\n",
            "668/668 [==============================] - 65s 97ms/step - loss: 0.0353 - accuracy: 0.9870 - val_loss: 0.8465 - val_accuracy: 0.8124\n",
            "Epoch 23/50\n",
            "668/668 [==============================] - 65s 97ms/step - loss: 0.0403 - accuracy: 0.9860 - val_loss: 0.4389 - val_accuracy: 0.8877\n",
            "Epoch 24/50\n",
            "668/668 [==============================] - 65s 97ms/step - loss: 0.0328 - accuracy: 0.9894 - val_loss: 0.4869 - val_accuracy: 0.8680\n",
            "Epoch 25/50\n",
            "668/668 [==============================] - 63s 95ms/step - loss: 0.0314 - accuracy: 0.9890 - val_loss: 0.4581 - val_accuracy: 0.8753\n",
            "Epoch 26/50\n",
            "668/668 [==============================] - 64s 97ms/step - loss: 0.0442 - accuracy: 0.9862 - val_loss: 0.4563 - val_accuracy: 0.8686\n",
            "Epoch 27/50\n",
            "668/668 [==============================] - 64s 96ms/step - loss: 0.0284 - accuracy: 0.9915 - val_loss: 0.7908 - val_accuracy: 0.8329\n",
            "Epoch 28/50\n",
            "668/668 [==============================] - 66s 98ms/step - loss: 0.0240 - accuracy: 0.9929 - val_loss: 0.4856 - val_accuracy: 0.8672\n",
            "Epoch 29/50\n",
            "668/668 [==============================] - 66s 99ms/step - loss: 0.0300 - accuracy: 0.9895 - val_loss: 0.5529 - val_accuracy: 0.8753\n",
            "Epoch 30/50\n",
            "668/668 [==============================] - 65s 98ms/step - loss: 0.0281 - accuracy: 0.9911 - val_loss: 1.6468 - val_accuracy: 0.6869\n",
            "Epoch 31/50\n",
            "668/668 [==============================] - 65s 97ms/step - loss: 0.0222 - accuracy: 0.9933 - val_loss: 1.0649 - val_accuracy: 0.7652\n",
            "Epoch 32/50\n",
            "668/668 [==============================] - 64s 95ms/step - loss: 0.0290 - accuracy: 0.9897 - val_loss: 0.8936 - val_accuracy: 0.8503\n",
            "Epoch 33/50\n",
            "668/668 [==============================] - 65s 97ms/step - loss: 0.0300 - accuracy: 0.9888 - val_loss: 0.7550 - val_accuracy: 0.8419\n",
            "Epoch 34/50\n",
            "668/668 [==============================] - 63s 95ms/step - loss: 0.0274 - accuracy: 0.9904 - val_loss: 2.2501 - val_accuracy: 0.6549\n",
            "Epoch 35/50\n",
            "668/668 [==============================] - 64s 95ms/step - loss: 0.0237 - accuracy: 0.9921 - val_loss: 0.5874 - val_accuracy: 0.8807\n",
            "Epoch 36/50\n",
            "668/668 [==============================] - 65s 98ms/step - loss: 0.0188 - accuracy: 0.9938 - val_loss: 0.5885 - val_accuracy: 0.8798\n",
            "Epoch 37/50\n",
            "668/668 [==============================] - 64s 95ms/step - loss: 0.0293 - accuracy: 0.9900 - val_loss: 0.7001 - val_accuracy: 0.8599\n",
            "Epoch 38/50\n",
            "668/668 [==============================] - 65s 97ms/step - loss: 0.0263 - accuracy: 0.9911 - val_loss: 0.6352 - val_accuracy: 0.8717\n",
            "Epoch 39/50\n",
            "668/668 [==============================] - 64s 96ms/step - loss: 0.0121 - accuracy: 0.9963 - val_loss: 0.6266 - val_accuracy: 0.8778\n",
            "Epoch 40/50\n",
            "668/668 [==============================] - 64s 96ms/step - loss: 0.0167 - accuracy: 0.9952 - val_loss: 0.5726 - val_accuracy: 0.8812\n",
            "Epoch 41/50\n",
            "668/668 [==============================] - 64s 95ms/step - loss: 0.0227 - accuracy: 0.9922 - val_loss: 0.7125 - val_accuracy: 0.8703\n",
            "Epoch 42/50\n",
            "668/668 [==============================] - 63s 95ms/step - loss: 0.0197 - accuracy: 0.9947 - val_loss: 0.8055 - val_accuracy: 0.8489\n",
            "Epoch 43/50\n",
            "668/668 [==============================] - 64s 96ms/step - loss: 0.0140 - accuracy: 0.9955 - val_loss: 0.7686 - val_accuracy: 0.8472\n",
            "Epoch 44/50\n",
            "668/668 [==============================] - 63s 95ms/step - loss: 0.0154 - accuracy: 0.9947 - val_loss: 1.0171 - val_accuracy: 0.8529\n",
            "Epoch 45/50\n",
            "668/668 [==============================] - 64s 96ms/step - loss: 0.0221 - accuracy: 0.9919 - val_loss: 0.8543 - val_accuracy: 0.8295\n",
            "Epoch 46/50\n",
            "668/668 [==============================] - 63s 95ms/step - loss: 0.0213 - accuracy: 0.9933 - val_loss: 0.6782 - val_accuracy: 0.8354\n",
            "Epoch 47/50\n",
            "668/668 [==============================] - 63s 94ms/step - loss: 0.0253 - accuracy: 0.9913 - val_loss: 0.7113 - val_accuracy: 0.8675\n",
            "Epoch 48/50\n",
            "668/668 [==============================] - 63s 95ms/step - loss: 0.0077 - accuracy: 0.9978 - val_loss: 0.9322 - val_accuracy: 0.8357\n",
            "Epoch 49/50\n",
            "668/668 [==============================] - 63s 95ms/step - loss: 0.0210 - accuracy: 0.9932 - val_loss: 0.6008 - val_accuracy: 0.8683\n",
            "Epoch 50/50\n",
            "668/668 [==============================] - 64s 95ms/step - loss: 0.0196 - accuracy: 0.9938 - val_loss: 0.4774 - val_accuracy: 0.8725\n"
          ]
        },
        {
          "output_type": "execute_result",
          "data": {
            "text/plain": [
              "<keras.callbacks.History at 0x7f30744c0e80>"
            ]
          },
          "metadata": {},
          "execution_count": 28
        }
      ]
    },
    {
      "cell_type": "code",
      "source": [],
      "metadata": {
        "id": "dUykX3kPXBdB"
      },
      "execution_count": null,
      "outputs": []
    }
  ]
}